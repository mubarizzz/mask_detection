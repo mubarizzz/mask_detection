{
 "cells": [
  {
   "cell_type": "markdown",
   "metadata": {},
   "source": [
    "# PACKAGES AND LIBRARIES"
   ]
  },
  {
   "cell_type": "markdown",
   "metadata": {},
   "source": [
    "# PATH AND LABEL PROCESS"
   ]
  },
  {
   "cell_type": "code",
   "execution_count": null,
   "metadata": {
    "_cell_guid": "b1076dfc-b9ad-4769-8c92-a6c4dae69d19",
    "_uuid": "8f2839f25d086af736a60e9eeb907d3b93b6e0e5",
    "execution": {
     "iopub.execute_input": "2021-10-02T16:01:52.079196Z",
     "iopub.status.busy": "2021-10-02T16:01:52.078361Z",
     "iopub.status.idle": "2021-10-02T16:02:03.755396Z",
     "shell.execute_reply": "2021-10-02T16:02:03.754261Z",
     "shell.execute_reply.started": "2021-10-02T16:01:52.079042Z"
    }
   },
   "outputs": [],
   "source": [
    "#GENERAL\n",
    "import pandas as pd\n",
    "import numpy as np\n",
    "import seaborn as sns\n",
    "import matplotlib.pyplot as plt\n",
    "import random\n",
    "import time\n",
    "#PATH PROCESS\n",
    "import os\n",
    "import os.path\n",
    "from pathlib import Path\n",
    "import glob\n",
    "#IMAGE PROCESS\n",
    "from PIL import Image\n",
    "from keras.preprocessing import image\n",
    "from tensorflow.keras.preprocessing.image import ImageDataGenerator\n",
    "from keras.preprocessing.image import load_img\n",
    "import cv2\n",
    "from keras.applications.vgg16 import preprocess_input, decode_predictions\n",
    "from keras.preprocessing import image\n",
    "from tensorflow.keras.applications.mobilenet_v2 import preprocess_input\n",
    "#SCALER & TRANSFORMATION\n",
    "from sklearn.preprocessing import StandardScaler\n",
    "from sklearn.preprocessing import MinMaxScaler\n",
    "from keras.utils.np_utils import to_categorical\n",
    "from sklearn.model_selection import train_test_split\n",
    "from keras import regularizers\n",
    "from sklearn.preprocessing import LabelEncoder\n",
    "#ACCURACY CONTROL\n",
    "from sklearn.metrics import confusion_matrix, accuracy_score, classification_report, roc_auc_score, roc_curve\n",
    "from sklearn.model_selection import GridSearchCV, cross_val_score\n",
    "from sklearn.metrics import mean_squared_error, r2_score\n",
    "#OPTIMIZER\n",
    "from keras.optimizers import RMSprop,Adam,Optimizer,Optimizer, SGD\n",
    "#MODEL LAYERS\n",
    "from tensorflow.keras.models import Sequential\n",
    "from keras.layers import Dense, Dropout, Flatten, Conv2D, MaxPool2D, BatchNormalization,MaxPooling2D,BatchNormalization,\\\n",
    "                        Permute, TimeDistributed, Bidirectional,GRU, SimpleRNN, LSTM, GlobalAveragePooling2D, SeparableConv2D, ZeroPadding2D, Convolution2D, ZeroPadding2D\n",
    "from keras import models\n",
    "from keras import layers\n",
    "import tensorflow as tf\n",
    "from keras.applications import VGG16,VGG19,inception_v3\n",
    "from keras import backend as K\n",
    "from keras.utils import plot_model\n",
    "from keras.models import load_model\n",
    "#SKLEARN CLASSIFIER\n",
    "from xgboost import XGBClassifier, XGBRegressor\n",
    "from lightgbm import LGBMClassifier, LGBMRegressor\n",
    "from catboost import CatBoostClassifier, CatBoostRegressor\n",
    "from sklearn.linear_model import LogisticRegression\n",
    "from sklearn.naive_bayes import GaussianNB\n",
    "from sklearn.ensemble import RandomForestClassifier, RandomForestRegressor\n",
    "from sklearn.ensemble import GradientBoostingClassifier, GradientBoostingRegressor\n",
    "from sklearn.ensemble import BaggingRegressor\n",
    "from sklearn.tree import DecisionTreeClassifier, DecisionTreeRegressor\n",
    "from sklearn.neural_network import MLPClassifier, MLPRegressor\n",
    "from sklearn.neighbors import KNeighborsClassifier, KNeighborsRegressor\n",
    "from sklearn.linear_model import LinearRegression\n",
    "from sklearn.cross_decomposition import PLSRegression\n",
    "from sklearn.linear_model import Ridge\n",
    "from sklearn.linear_model import RidgeCV\n",
    "from sklearn.linear_model import Lasso\n",
    "from sklearn.linear_model import LassoCV\n",
    "from sklearn.linear_model import ElasticNet\n",
    "from sklearn.linear_model import ElasticNetCV\n",
    "#IGNORING WARNINGS\n",
    "from warnings import filterwarnings\n",
    "filterwarnings(\"ignore\",category=DeprecationWarning)\n",
    "filterwarnings(\"ignore\", category=FutureWarning) \n",
    "filterwarnings(\"ignore\", category=UserWarning)\n",
    "\n",
    "#PLOT TYPE\n",
    "plt.style.use(\"classic\")"
   ]
  },
  {
   "cell_type": "markdown",
   "metadata": {},
   "source": [
    "#### PATH"
   ]
  },
  {
   "cell_type": "code",
   "execution_count": 8,
   "metadata": {
    "execution": {
     "iopub.execute_input": "2021-10-02T16:02:03.757544Z",
     "iopub.status.busy": "2021-10-02T16:02:03.757105Z",
     "iopub.status.idle": "2021-10-02T16:02:03.767965Z",
     "shell.execute_reply": "2021-10-02T16:02:03.766178Z",
     "shell.execute_reply.started": "2021-10-02T16:02:03.757500Z"
    }
   },
   "outputs": [],
   "source": [
    "Data_Path = Path(\"./Dataset\")"
   ]
  },
  {
   "cell_type": "code",
   "execution_count": 9,
   "metadata": {
    "execution": {
     "iopub.execute_input": "2021-10-02T16:02:03.771455Z",
     "iopub.status.busy": "2021-10-02T16:02:03.770920Z",
     "iopub.status.idle": "2021-10-02T16:02:04.745661Z",
     "shell.execute_reply": "2021-10-02T16:02:04.744677Z",
     "shell.execute_reply.started": "2021-10-02T16:02:03.771403Z"
    }
   },
   "outputs": [],
   "source": [
    "PNG_Path = list(Data_Path.glob(r\"*/*.png\"))"
   ]
  },
  {
   "cell_type": "markdown",
   "metadata": {},
   "source": [
    "#### LABEL"
   ]
  },
  {
   "cell_type": "code",
   "execution_count": 10,
   "metadata": {
    "execution": {
     "iopub.execute_input": "2021-10-02T16:02:04.751388Z",
     "iopub.status.busy": "2021-10-02T16:02:04.750644Z",
     "iopub.status.idle": "2021-10-02T16:02:04.807906Z",
     "shell.execute_reply": "2021-10-02T16:02:04.807035Z",
     "shell.execute_reply.started": "2021-10-02T16:02:04.751330Z"
    }
   },
   "outputs": [],
   "source": [
    "PNG_Labels = list(map(lambda x: os.path.split(os.path.split(x)[0])[1],PNG_Path))"
   ]
  },
  {
   "cell_type": "markdown",
   "metadata": {},
   "source": [
    "#### TO SERIES"
   ]
  },
  {
   "cell_type": "code",
   "execution_count": 11,
   "metadata": {
    "execution": {
     "iopub.execute_input": "2021-10-02T16:02:04.810255Z",
     "iopub.status.busy": "2021-10-02T16:02:04.809530Z",
     "iopub.status.idle": "2021-10-02T16:02:04.829146Z",
     "shell.execute_reply": "2021-10-02T16:02:04.827779Z",
     "shell.execute_reply.started": "2021-10-02T16:02:04.810206Z"
    }
   },
   "outputs": [],
   "source": [
    "PNG_Path_Series = pd.Series(PNG_Path,name=\"PNG\").astype(str)\n",
    "PNG_Labels_Series = pd.Series(PNG_Labels,name=\"CATEGORY\")"
   ]
  },
  {
   "cell_type": "markdown",
   "metadata": {},
   "source": [
    "#### TO DATAFRAME"
   ]
  },
  {
   "cell_type": "code",
   "execution_count": 12,
   "metadata": {
    "execution": {
     "iopub.execute_input": "2021-10-02T16:02:04.832454Z",
     "iopub.status.busy": "2021-10-02T16:02:04.832092Z",
     "iopub.status.idle": "2021-10-02T16:02:04.841111Z",
     "shell.execute_reply": "2021-10-02T16:02:04.839998Z",
     "shell.execute_reply.started": "2021-10-02T16:02:04.832419Z"
    }
   },
   "outputs": [],
   "source": [
    "Main_Data = pd.concat([PNG_Path_Series,PNG_Labels_Series],axis=1)"
   ]
  },
  {
   "cell_type": "code",
   "execution_count": 13,
   "metadata": {
    "execution": {
     "iopub.execute_input": "2021-10-02T16:02:04.843767Z",
     "iopub.status.busy": "2021-10-02T16:02:04.842985Z",
     "iopub.status.idle": "2021-10-02T16:02:04.870817Z",
     "shell.execute_reply": "2021-10-02T16:02:04.868574Z",
     "shell.execute_reply.started": "2021-10-02T16:02:04.843716Z"
    }
   },
   "outputs": [
    {
     "ename": "ModuleNotFoundError",
     "evalue": "No module named 'pandas.io.formats.string'",
     "output_type": "error",
     "traceback": [
      "\u001b[0;31m---------------------------------------------------------------------------\u001b[0m",
      "\u001b[0;31mModuleNotFoundError\u001b[0m                       Traceback (most recent call last)",
      "\u001b[0;32m<ipython-input-13-dee97a9e6d11>\u001b[0m in \u001b[0;36m<module>\u001b[0;34m\u001b[0m\n\u001b[0;32m----> 1\u001b[0;31m \u001b[0mprint\u001b[0m\u001b[0;34m(\u001b[0m\u001b[0mMain_Data\u001b[0m\u001b[0;34m.\u001b[0m\u001b[0mhead\u001b[0m\u001b[0;34m(\u001b[0m\u001b[0;34m-\u001b[0m\u001b[0;36m1\u001b[0m\u001b[0;34m)\u001b[0m\u001b[0;34m)\u001b[0m\u001b[0;34m\u001b[0m\u001b[0;34m\u001b[0m\u001b[0m\n\u001b[0m",
      "\u001b[0;32m/opt/anaconda3/envs/testEnv/lib/python3.7/site-packages/pandas/core/frame.py\u001b[0m in \u001b[0;36m__repr__\u001b[0;34m(self)\u001b[0m\n\u001b[1;32m   1000\u001b[0m            \u001b[0mint64\u001b[0m\u001b[0;34m\u001b[0m\u001b[0;34m\u001b[0m\u001b[0m\n\u001b[1;32m   1001\u001b[0m \u001b[0;34m\u001b[0m\u001b[0m\n\u001b[0;32m-> 1002\u001b[0;31m            \u001b[0mTo\u001b[0m \u001b[0mpreserve\u001b[0m \u001b[0mdtypes\u001b[0m \u001b[0;32mwhile\u001b[0m \u001b[0miterating\u001b[0m \u001b[0mover\u001b[0m \u001b[0mthe\u001b[0m \u001b[0mrows\u001b[0m\u001b[0;34m,\u001b[0m \u001b[0mit\u001b[0m \u001b[0;32mis\u001b[0m \u001b[0mbetter\u001b[0m\u001b[0;34m\u001b[0m\u001b[0;34m\u001b[0m\u001b[0m\n\u001b[0m\u001b[1;32m   1003\u001b[0m            \u001b[0mto\u001b[0m \u001b[0muse\u001b[0m \u001b[0;34m:\u001b[0m\u001b[0mmeth\u001b[0m\u001b[0;34m:\u001b[0m\u001b[0;31m`\u001b[0m\u001b[0mitertuples\u001b[0m\u001b[0;31m`\u001b[0m \u001b[0mwhich\u001b[0m \u001b[0mreturns\u001b[0m \u001b[0mnamedtuples\u001b[0m \u001b[0mof\u001b[0m \u001b[0mthe\u001b[0m \u001b[0mvalues\u001b[0m\u001b[0;34m\u001b[0m\u001b[0;34m\u001b[0m\u001b[0m\n\u001b[1;32m   1004\u001b[0m            \u001b[0;32mand\u001b[0m \u001b[0mwhich\u001b[0m \u001b[0;32mis\u001b[0m \u001b[0mgenerally\u001b[0m \u001b[0mfaster\u001b[0m \u001b[0mthan\u001b[0m\u001b[0;31m \u001b[0m\u001b[0;31m`\u001b[0m\u001b[0;31m`\u001b[0m\u001b[0miterrows\u001b[0m\u001b[0;31m`\u001b[0m\u001b[0;31m`\u001b[0m\u001b[0;34m.\u001b[0m\u001b[0;34m\u001b[0m\u001b[0;34m\u001b[0m\u001b[0m\n",
      "\u001b[0;32m/opt/anaconda3/envs/testEnv/lib/python3.7/site-packages/pandas/core/frame.py\u001b[0m in \u001b[0;36mto_string\u001b[0;34m(self, buf, columns, col_space, header, index, na_rep, formatters, float_format, sparsify, index_names, justify, max_rows, min_rows, max_cols, show_dimensions, decimal, line_width, max_colwidth, encoding)\u001b[0m\n\u001b[1;32m   1132\u001b[0m         \u001b[0mThe\u001b[0m \u001b[0mdimensions\u001b[0m \u001b[0mof\u001b[0m \u001b[0mDataFrame\u001b[0m \u001b[0;32mand\u001b[0m \u001b[0mother\u001b[0m \u001b[0mmust\u001b[0m \u001b[0mbe\u001b[0m \u001b[0mcompatible\u001b[0m \u001b[0;32min\u001b[0m \u001b[0morder\u001b[0m \u001b[0mto\u001b[0m\u001b[0;34m\u001b[0m\u001b[0;34m\u001b[0m\u001b[0m\n\u001b[1;32m   1133\u001b[0m         \u001b[0mcompute\u001b[0m \u001b[0mthe\u001b[0m \u001b[0mmatrix\u001b[0m \u001b[0mmultiplication\u001b[0m\u001b[0;34m.\u001b[0m \u001b[0mIn\u001b[0m \u001b[0maddition\u001b[0m\u001b[0;34m,\u001b[0m \u001b[0mthe\u001b[0m \u001b[0mcolumn\u001b[0m \u001b[0mnames\u001b[0m \u001b[0mof\u001b[0m\u001b[0;34m\u001b[0m\u001b[0;34m\u001b[0m\u001b[0m\n\u001b[0;32m-> 1134\u001b[0;31m         \u001b[0mDataFrame\u001b[0m \u001b[0;32mand\u001b[0m \u001b[0mthe\u001b[0m \u001b[0mindex\u001b[0m \u001b[0mof\u001b[0m \u001b[0mother\u001b[0m \u001b[0mmust\u001b[0m \u001b[0mcontain\u001b[0m \u001b[0mthe\u001b[0m \u001b[0msame\u001b[0m \u001b[0mvalues\u001b[0m\u001b[0;34m,\u001b[0m \u001b[0;32mas\u001b[0m \u001b[0mthey\u001b[0m\u001b[0;34m\u001b[0m\u001b[0;34m\u001b[0m\u001b[0m\n\u001b[0m\u001b[1;32m   1135\u001b[0m         \u001b[0mwill\u001b[0m \u001b[0mbe\u001b[0m \u001b[0maligned\u001b[0m \u001b[0mprior\u001b[0m \u001b[0mto\u001b[0m \u001b[0mthe\u001b[0m \u001b[0mmultiplication\u001b[0m\u001b[0;34m.\u001b[0m\u001b[0;34m\u001b[0m\u001b[0;34m\u001b[0m\u001b[0m\n\u001b[1;32m   1136\u001b[0m \u001b[0;34m\u001b[0m\u001b[0m\n",
      "\u001b[0;32m/opt/anaconda3/envs/testEnv/lib/python3.7/site-packages/pandas/io/formats/format.py\u001b[0m in \u001b[0;36mto_string\u001b[0;34m(self, buf, encoding, line_width)\u001b[0m\n\u001b[1;32m   1048\u001b[0m \u001b[0;34m\u001b[0m\u001b[0m\n\u001b[1;32m   1049\u001b[0m     \u001b[0;32mdef\u001b[0m \u001b[0m_get_formatted_index\u001b[0m\u001b[0;34m(\u001b[0m\u001b[0mself\u001b[0m\u001b[0;34m,\u001b[0m \u001b[0mframe\u001b[0m\u001b[0;34m:\u001b[0m \u001b[0;34m\"DataFrame\"\u001b[0m\u001b[0;34m)\u001b[0m \u001b[0;34m->\u001b[0m \u001b[0mList\u001b[0m\u001b[0;34m[\u001b[0m\u001b[0mstr\u001b[0m\u001b[0;34m]\u001b[0m\u001b[0;34m:\u001b[0m\u001b[0;34m\u001b[0m\u001b[0;34m\u001b[0m\u001b[0m\n\u001b[0;32m-> 1050\u001b[0;31m         \u001b[0;31m# Note: this is only used by to_string() and to_latex(), not by\u001b[0m\u001b[0;34m\u001b[0m\u001b[0;34m\u001b[0m\u001b[0;34m\u001b[0m\u001b[0m\n\u001b[0m\u001b[1;32m   1051\u001b[0m         \u001b[0;31m# to_html(). so safe to cast col_space here.\u001b[0m\u001b[0;34m\u001b[0m\u001b[0;34m\u001b[0m\u001b[0;34m\u001b[0m\u001b[0m\n\u001b[1;32m   1052\u001b[0m         \u001b[0mcol_space\u001b[0m \u001b[0;34m=\u001b[0m \u001b[0;34m{\u001b[0m\u001b[0mk\u001b[0m\u001b[0;34m:\u001b[0m \u001b[0mcast\u001b[0m\u001b[0;34m(\u001b[0m\u001b[0mint\u001b[0m\u001b[0;34m,\u001b[0m \u001b[0mv\u001b[0m\u001b[0;34m)\u001b[0m \u001b[0;32mfor\u001b[0m \u001b[0mk\u001b[0m\u001b[0;34m,\u001b[0m \u001b[0mv\u001b[0m \u001b[0;32min\u001b[0m \u001b[0mself\u001b[0m\u001b[0;34m.\u001b[0m\u001b[0mcol_space\u001b[0m\u001b[0;34m.\u001b[0m\u001b[0mitems\u001b[0m\u001b[0;34m(\u001b[0m\u001b[0;34m)\u001b[0m\u001b[0;34m}\u001b[0m\u001b[0;34m\u001b[0m\u001b[0;34m\u001b[0m\u001b[0m\n",
      "\u001b[0;31mModuleNotFoundError\u001b[0m: No module named 'pandas.io.formats.string'"
     ]
    }
   ],
   "source": [
    "print(Main_Data.head(-1))"
   ]
  },
  {
   "cell_type": "code",
   "execution_count": 8,
   "metadata": {
    "execution": {
     "iopub.execute_input": "2021-10-02T16:02:04.874774Z",
     "iopub.status.busy": "2021-10-02T16:02:04.874112Z",
     "iopub.status.idle": "2021-10-02T16:02:04.890681Z",
     "shell.execute_reply": "2021-10-02T16:02:04.889278Z",
     "shell.execute_reply.started": "2021-10-02T16:02:04.874719Z"
    }
   },
   "outputs": [],
   "source": [
    "print(Main_Data[\"CATEGORY\"].value_counts())"
   ]
  },
  {
   "cell_type": "markdown",
   "metadata": {},
   "source": [
    "#### SHUFFLING"
   ]
  },
  {
   "cell_type": "code",
   "execution_count": 9,
   "metadata": {
    "execution": {
     "iopub.execute_input": "2021-10-02T16:02:04.894336Z",
     "iopub.status.busy": "2021-10-02T16:02:04.893709Z",
     "iopub.status.idle": "2021-10-02T16:02:04.907818Z",
     "shell.execute_reply": "2021-10-02T16:02:04.906561Z",
     "shell.execute_reply.started": "2021-10-02T16:02:04.894276Z"
    }
   },
   "outputs": [],
   "source": [
    "Main_Data = Main_Data.sample(frac=1).reset_index(drop=True)"
   ]
  },
  {
   "cell_type": "code",
   "execution_count": 10,
   "metadata": {
    "execution": {
     "iopub.execute_input": "2021-10-02T16:02:04.919396Z",
     "iopub.status.busy": "2021-10-02T16:02:04.918583Z",
     "iopub.status.idle": "2021-10-02T16:02:04.931571Z",
     "shell.execute_reply": "2021-10-02T16:02:04.929312Z",
     "shell.execute_reply.started": "2021-10-02T16:02:04.919342Z"
    }
   },
   "outputs": [],
   "source": [
    "print(Main_Data.head(-1))"
   ]
  },
  {
   "cell_type": "markdown",
   "metadata": {},
   "source": [
    "# VISUALIZATION"
   ]
  },
  {
   "cell_type": "code",
   "execution_count": 11,
   "metadata": {
    "execution": {
     "iopub.execute_input": "2021-10-02T16:02:04.934263Z",
     "iopub.status.busy": "2021-10-02T16:02:04.933875Z",
     "iopub.status.idle": "2021-10-02T16:02:04.942071Z",
     "shell.execute_reply": "2021-10-02T16:02:04.940611Z",
     "shell.execute_reply.started": "2021-10-02T16:02:04.934220Z"
    }
   },
   "outputs": [],
   "source": [
    "def general_showing(integer_of_image):\n",
    "\n",
    "    Example_PNG = Main_Data[\"PNG\"][integer_of_image]\n",
    "    Reading_IMG = cv2.imread(Example_PNG)\n",
    "    Transformation_RGB = cv2.cvtColor(Reading_IMG,cv2.COLOR_BGR2RGB)\n",
    "\n",
    "    plt.xlabel(Transformation_RGB.shape)\n",
    "    plt.ylabel(Transformation_RGB.size)\n",
    "    plt.title(Main_Data[\"CATEGORY\"][integer_of_image])\n",
    "\n",
    "    plt.imshow(Transformation_RGB)\n"
   ]
  },
  {
   "cell_type": "code",
   "execution_count": 12,
   "metadata": {
    "execution": {
     "iopub.execute_input": "2021-10-02T16:02:04.944462Z",
     "iopub.status.busy": "2021-10-02T16:02:04.943928Z",
     "iopub.status.idle": "2021-10-02T16:02:05.302267Z",
     "shell.execute_reply": "2021-10-02T16:02:05.298995Z",
     "shell.execute_reply.started": "2021-10-02T16:02:04.944369Z"
    }
   },
   "outputs": [],
   "source": [
    "figure = plt.figure(figsize=(7,7))\n",
    "general_showing(5909)"
   ]
  },
  {
   "cell_type": "code",
   "execution_count": 13,
   "metadata": {
    "execution": {
     "iopub.execute_input": "2021-10-02T16:02:05.304276Z",
     "iopub.status.busy": "2021-10-02T16:02:05.303804Z",
     "iopub.status.idle": "2021-10-02T16:02:05.594780Z",
     "shell.execute_reply": "2021-10-02T16:02:05.593532Z",
     "shell.execute_reply.started": "2021-10-02T16:02:05.304223Z"
    }
   },
   "outputs": [],
   "source": [
    "figure = plt.figure(figsize=(7,7))\n",
    "general_showing(3)"
   ]
  },
  {
   "cell_type": "code",
   "execution_count": 14,
   "metadata": {
    "execution": {
     "iopub.execute_input": "2021-10-02T16:02:05.596942Z",
     "iopub.status.busy": "2021-10-02T16:02:05.596518Z",
     "iopub.status.idle": "2021-10-02T16:02:05.899890Z",
     "shell.execute_reply": "2021-10-02T16:02:05.898644Z",
     "shell.execute_reply.started": "2021-10-02T16:02:05.596900Z"
    }
   },
   "outputs": [],
   "source": [
    "figure = plt.figure(figsize=(7,7))\n",
    "general_showing(8976)"
   ]
  },
  {
   "cell_type": "code",
   "execution_count": 15,
   "metadata": {
    "execution": {
     "iopub.execute_input": "2021-10-02T16:02:05.902119Z",
     "iopub.status.busy": "2021-10-02T16:02:05.901673Z",
     "iopub.status.idle": "2021-10-02T16:02:10.333934Z",
     "shell.execute_reply": "2021-10-02T16:02:10.332883Z",
     "shell.execute_reply.started": "2021-10-02T16:02:05.902074Z"
    }
   },
   "outputs": [],
   "source": [
    "figure,axis = plt.subplots(nrows=5,ncols=5,figsize=(14,14))\n",
    "\n",
    "for indexing,run_axes in enumerate(axis.flat):\n",
    "    Reading_IMG = cv2.imread(Main_Data[\"PNG\"][indexing])\n",
    "    Transformation_IMG = cv2.cvtColor(Reading_IMG,cv2.COLOR_BGR2RGB)\n",
    "    \n",
    "    run_axes.set_xlabel(Transformation_IMG.shape)\n",
    "    run_axes.set_ylabel(Transformation_IMG.size)\n",
    "    run_axes.set_title(Main_Data[\"CATEGORY\"][indexing])\n",
    "    \n",
    "    run_axes.imshow(Transformation_IMG)\n",
    "    \n",
    "plt.tight_layout()\n",
    "plt.show()"
   ]
  },
  {
   "cell_type": "markdown",
   "metadata": {},
   "source": [
    "# SPLITTING TEST AND TRAIN DATA"
   ]
  },
  {
   "cell_type": "code",
   "execution_count": 16,
   "metadata": {
    "execution": {
     "iopub.execute_input": "2021-10-02T16:02:10.335888Z",
     "iopub.status.busy": "2021-10-02T16:02:10.335349Z",
     "iopub.status.idle": "2021-10-02T16:02:10.345207Z",
     "shell.execute_reply": "2021-10-02T16:02:10.343867Z",
     "shell.execute_reply.started": "2021-10-02T16:02:10.335847Z"
    }
   },
   "outputs": [],
   "source": [
    "Train_Data,Test_Data = train_test_split(Main_Data,train_size=0.9,shuffle=True,random_state=42)"
   ]
  },
  {
   "cell_type": "code",
   "execution_count": 17,
   "metadata": {
    "execution": {
     "iopub.execute_input": "2021-10-02T16:02:10.347514Z",
     "iopub.status.busy": "2021-10-02T16:02:10.346885Z",
     "iopub.status.idle": "2021-10-02T16:02:10.355944Z",
     "shell.execute_reply": "2021-10-02T16:02:10.354648Z",
     "shell.execute_reply.started": "2021-10-02T16:02:10.347464Z"
    }
   },
   "outputs": [],
   "source": [
    "print(Train_Data.shape)"
   ]
  },
  {
   "cell_type": "code",
   "execution_count": 18,
   "metadata": {
    "execution": {
     "iopub.execute_input": "2021-10-02T16:02:10.358445Z",
     "iopub.status.busy": "2021-10-02T16:02:10.357941Z",
     "iopub.status.idle": "2021-10-02T16:02:10.368622Z",
     "shell.execute_reply": "2021-10-02T16:02:10.367574Z",
     "shell.execute_reply.started": "2021-10-02T16:02:10.358402Z"
    }
   },
   "outputs": [],
   "source": [
    "print(Test_Data.shape)"
   ]
  },
  {
   "cell_type": "markdown",
   "metadata": {},
   "source": [
    "# IMAGE GENERATOR"
   ]
  },
  {
   "cell_type": "markdown",
   "metadata": {},
   "source": [
    "#### STRUCTURE"
   ]
  },
  {
   "cell_type": "code",
   "execution_count": 19,
   "metadata": {
    "execution": {
     "iopub.execute_input": "2021-10-02T16:02:10.371260Z",
     "iopub.status.busy": "2021-10-02T16:02:10.370496Z",
     "iopub.status.idle": "2021-10-02T16:02:10.380884Z",
     "shell.execute_reply": "2021-10-02T16:02:10.379622Z",
     "shell.execute_reply.started": "2021-10-02T16:02:10.371214Z"
    }
   },
   "outputs": [],
   "source": [
    "Train_IMG_Generator = ImageDataGenerator(rescale=1./255,\n",
    "                                        rotation_range=25,\n",
    "                                        shear_range=0.5,\n",
    "                                        zoom_range=0.5,\n",
    "                                        width_shift_range=0.2,\n",
    "                                        height_shift_range=0.2,\n",
    "                                        horizontal_flip=True,\n",
    "                                        fill_mode=\"nearest\",\n",
    "                                        validation_split=0.1)"
   ]
  },
  {
   "cell_type": "code",
   "execution_count": 20,
   "metadata": {
    "execution": {
     "iopub.execute_input": "2021-10-02T16:02:10.383546Z",
     "iopub.status.busy": "2021-10-02T16:02:10.383181Z",
     "iopub.status.idle": "2021-10-02T16:02:10.427680Z",
     "shell.execute_reply": "2021-10-02T16:02:10.426204Z",
     "shell.execute_reply.started": "2021-10-02T16:02:10.383510Z"
    }
   },
   "outputs": [],
   "source": [
    "Test_IMG_Generator = ImageDataGenerator(rescale=1./255)"
   ]
  },
  {
   "cell_type": "markdown",
   "metadata": {},
   "source": [
    "#### APPLY"
   ]
  },
  {
   "cell_type": "code",
   "execution_count": 21,
   "metadata": {
    "execution": {
     "iopub.execute_input": "2021-10-02T16:02:10.430419Z",
     "iopub.status.busy": "2021-10-02T16:02:10.429835Z",
     "iopub.status.idle": "2021-10-02T16:02:21.740075Z",
     "shell.execute_reply": "2021-10-02T16:02:21.738068Z",
     "shell.execute_reply.started": "2021-10-02T16:02:10.430367Z"
    }
   },
   "outputs": [],
   "source": [
    "Train_IMG_Set = Train_IMG_Generator.flow_from_dataframe(dataframe=Train_Data,\n",
    "                                                       x_col=\"PNG\",\n",
    "                                                       y_col=\"CATEGORY\",\n",
    "                                                       color_mode=\"rgb\",\n",
    "                                                       class_mode=\"categorical\",\n",
    "                                                       target_size=(128,128),\n",
    "                                                       subset=\"training\")"
   ]
  },
  {
   "cell_type": "code",
   "execution_count": 22,
   "metadata": {
    "execution": {
     "iopub.execute_input": "2021-10-02T16:02:21.742292Z",
     "iopub.status.busy": "2021-10-02T16:02:21.741836Z",
     "iopub.status.idle": "2021-10-02T16:02:24.225438Z",
     "shell.execute_reply": "2021-10-02T16:02:24.224334Z",
     "shell.execute_reply.started": "2021-10-02T16:02:21.742241Z"
    }
   },
   "outputs": [],
   "source": [
    "Validation_IMG_Set = Train_IMG_Generator.flow_from_dataframe(dataframe=Train_Data,\n",
    "                                                       x_col=\"PNG\",\n",
    "                                                       y_col=\"CATEGORY\",\n",
    "                                                       color_mode=\"rgb\",\n",
    "                                                       class_mode=\"categorical\",\n",
    "                                                       target_size=(128,128),\n",
    "                                                       subset=\"validation\")"
   ]
  },
  {
   "cell_type": "code",
   "execution_count": 23,
   "metadata": {
    "execution": {
     "iopub.execute_input": "2021-10-02T16:02:24.231595Z",
     "iopub.status.busy": "2021-10-02T16:02:24.230930Z",
     "iopub.status.idle": "2021-10-02T16:02:25.501511Z",
     "shell.execute_reply": "2021-10-02T16:02:25.500406Z",
     "shell.execute_reply.started": "2021-10-02T16:02:24.231539Z"
    }
   },
   "outputs": [],
   "source": [
    "Test_IMG_Set = Test_IMG_Generator.flow_from_dataframe(dataframe=Test_Data,\n",
    "                                                       x_col=\"PNG\",\n",
    "                                                       y_col=\"CATEGORY\",\n",
    "                                                       color_mode=\"rgb\",\n",
    "                                                       class_mode=\"categorical\",\n",
    "                                                       target_size=(128,128),\n",
    "                                                       shuffle=False)"
   ]
  },
  {
   "cell_type": "code",
   "execution_count": 24,
   "metadata": {
    "execution": {
     "iopub.execute_input": "2021-10-02T16:02:25.505715Z",
     "iopub.status.busy": "2021-10-02T16:02:25.505040Z",
     "iopub.status.idle": "2021-10-02T16:02:25.517416Z",
     "shell.execute_reply": "2021-10-02T16:02:25.516259Z",
     "shell.execute_reply.started": "2021-10-02T16:02:25.505658Z"
    }
   },
   "outputs": [],
   "source": [
    "print(\"TRAIN: \")\n",
    "print(Train_IMG_Set.class_indices)\n",
    "print(Train_IMG_Set.classes[0:5])\n",
    "print(Train_IMG_Set.image_shape)\n",
    "print(\"---\"*20)\n",
    "print(\"VALIDATION: \")\n",
    "print(Validation_IMG_Set.class_indices)\n",
    "print(Validation_IMG_Set.classes[0:5])\n",
    "print(Validation_IMG_Set.image_shape)\n",
    "print(\"---\"*20)\n",
    "print(\"TEST: \")\n",
    "print(Test_IMG_Set.class_indices)\n",
    "print(Test_IMG_Set.classes[0:5])\n",
    "print(Test_IMG_Set.image_shape)"
   ]
  },
  {
   "cell_type": "markdown",
   "metadata": {},
   "source": [
    "#### HOW TO LOOK BY GENERATOR"
   ]
  },
  {
   "cell_type": "code",
   "execution_count": 25,
   "metadata": {
    "execution": {
     "iopub.execute_input": "2021-10-02T16:02:25.520496Z",
     "iopub.status.busy": "2021-10-02T16:02:25.519467Z",
     "iopub.status.idle": "2021-10-02T16:02:25.968537Z",
     "shell.execute_reply": "2021-10-02T16:02:25.966511Z",
     "shell.execute_reply.started": "2021-10-02T16:02:25.520444Z"
    }
   },
   "outputs": [],
   "source": [
    "Example_Image = Train_Data[\"PNG\"][422]\n",
    "Reading_Image = cv2.imread(Example_Image)\n",
    "Transformation_Image = cv2.cvtColor(Reading_Image,cv2.COLOR_BGR2RGB)\n",
    "Array_Image = image.img_to_array(Transformation_Image)\n",
    "Array_Image = Array_Image.reshape((1,)+Array_Image.shape)\n",
    "\n",
    "i = 0\n",
    "\n",
    "for batch in Train_IMG_Generator.flow(Array_Image,batch_size=32):\n",
    "    plt.figure(i)\n",
    "    \n",
    "    Image = plt.imshow(image.img_to_array(batch[0]))\n",
    "    \n",
    "    i += 1\n",
    "    \n",
    "    if i % 4 == 0:\n",
    "        break\n",
    "\n",
    "plt.show()"
   ]
  },
  {
   "cell_type": "markdown",
   "metadata": {},
   "source": [
    "# MODEL"
   ]
  },
  {
   "cell_type": "code",
   "execution_count": null,
   "metadata": {
    "execution": {
     "iopub.status.busy": "2021-10-02T16:02:25.969731Z",
     "iopub.status.idle": "2021-10-02T16:02:25.970208Z"
    }
   },
   "outputs": [],
   "source": [
    "Model = Sequential()\n",
    "\n",
    "#\n",
    "Model.add(Conv2D(32,(3,3),activation=\"relu\",input_shape=(128,128,3)))\n",
    "Model.add(BatchNormalization())\n",
    "Model.add(MaxPooling2D((2,2)))\n",
    "\n",
    "#\n",
    "Model.add(Conv2D(64,(3,3),padding=\"same\",activation=\"relu\"))\n",
    "Model.add(Dropout(0.3))\n",
    "Model.add(MaxPooling2D((2,2)))\n",
    "\n",
    "Model.add(Conv2D(128,(3,3),padding=\"same\",activation=\"relu\"))\n",
    "Model.add(Dropout(0.3))\n",
    "Model.add(MaxPooling2D((2,2)))\n",
    "\n",
    "Model.add(Conv2D(128,(3,3),padding=\"same\",activation=\"relu\"))\n",
    "Model.add(Dropout(0.3))\n",
    "Model.add(MaxPooling2D((2,2)))\n",
    "\n",
    "#\n",
    "Model.add(Flatten())\n",
    "Model.add(Dense(256,activation=\"relu\"))\n",
    "Model.add(Dropout(0.5))\n",
    "\n",
    "#\n",
    "Model.add(Dense(3,activation=\"softmax\"))"
   ]
  },
  {
   "cell_type": "code",
   "execution_count": null,
   "metadata": {
    "execution": {
     "iopub.status.busy": "2021-10-02T16:02:25.971540Z",
     "iopub.status.idle": "2021-10-02T16:02:25.972284Z"
    }
   },
   "outputs": [],
   "source": [
    "Early_Stop = tf.keras.callbacks.EarlyStopping(monitor=\"loss\",patience=3,mode=\"min\")"
   ]
  },
  {
   "cell_type": "code",
   "execution_count": null,
   "metadata": {
    "execution": {
     "iopub.status.busy": "2021-10-02T16:02:25.973577Z",
     "iopub.status.idle": "2021-10-02T16:02:25.974345Z"
    }
   },
   "outputs": [],
   "source": [
    "Model.compile(optimizer=\"adam\",loss=\"categorical_crossentropy\",metrics=[\"accuracy\"])"
   ]
  },
  {
   "cell_type": "code",
   "execution_count": null,
   "metadata": {
    "execution": {
     "iopub.status.busy": "2021-10-02T16:02:25.975819Z",
     "iopub.status.idle": "2021-10-02T16:02:25.976584Z"
    }
   },
   "outputs": [],
   "source": [
    "print(Model.summary())"
   ]
  },
  {
   "cell_type": "code",
   "execution_count": null,
   "metadata": {
    "execution": {
     "iopub.status.busy": "2021-10-02T16:02:25.977978Z",
     "iopub.status.idle": "2021-10-02T16:02:25.978738Z"
    }
   },
   "outputs": [],
   "source": [
    "CNN_Sep_Model = Model.fit(Train_IMG_Set,validation_data=Validation_IMG_Set,callbacks=Early_Stop,epochs=50)"
   ]
  },
  {
   "cell_type": "markdown",
   "metadata": {},
   "source": [
    "#### CHECKING"
   ]
  },
  {
   "cell_type": "code",
   "execution_count": null,
   "metadata": {
    "execution": {
     "iopub.status.busy": "2021-10-02T16:02:25.980261Z",
     "iopub.status.idle": "2021-10-02T16:02:25.980997Z"
    }
   },
   "outputs": [],
   "source": [
    "Grap_Data = pd.DataFrame(CNN_Sep_Model.history)\n",
    "figure = plt.figure(figsize=(10,10))\n",
    "\n",
    "Grap_Data.plot()"
   ]
  },
  {
   "cell_type": "code",
   "execution_count": null,
   "metadata": {
    "execution": {
     "iopub.status.busy": "2021-10-02T16:02:25.982348Z",
     "iopub.status.idle": "2021-10-02T16:02:25.983080Z"
    }
   },
   "outputs": [],
   "source": [
    "plt.plot(CNN_Sep_Model.history[\"accuracy\"])\n",
    "plt.plot(CNN_Sep_Model.history[\"val_accuracy\"])\n",
    "plt.ylabel(\"ACCURACY\")\n",
    "plt.legend()\n",
    "plt.show()"
   ]
  },
  {
   "cell_type": "code",
   "execution_count": null,
   "metadata": {
    "execution": {
     "iopub.status.busy": "2021-10-02T16:02:25.984602Z",
     "iopub.status.idle": "2021-10-02T16:02:25.985334Z"
    }
   },
   "outputs": [],
   "source": [
    "plt.plot(CNN_Sep_Model.history[\"loss\"])\n",
    "plt.plot(CNN_Sep_Model.history[\"val_loss\"])\n",
    "plt.ylabel(\"LOSS\")\n",
    "plt.legend()\n",
    "plt.show()"
   ]
  },
  {
   "cell_type": "markdown",
   "metadata": {},
   "source": [
    "#### SAVING"
   ]
  },
  {
   "cell_type": "code",
   "execution_count": null,
   "metadata": {
    "execution": {
     "iopub.status.busy": "2021-10-02T16:02:25.986713Z",
     "iopub.status.idle": "2021-10-02T16:02:25.987457Z"
    }
   },
   "outputs": [],
   "source": [
    "Model.save(\"main_model.h5\")\n",
    "Model.save_weights(\"main_model_weight.h5\")"
   ]
  },
  {
   "cell_type": "markdown",
   "metadata": {},
   "source": [
    "#### PREDICTION"
   ]
  },
  {
   "cell_type": "code",
   "execution_count": null,
   "metadata": {
    "execution": {
     "iopub.status.busy": "2021-10-02T16:02:25.988796Z",
     "iopub.status.idle": "2021-10-02T16:02:25.989503Z"
    }
   },
   "outputs": [],
   "source": [
    "Model_Results = Model.evaluate(Test_IMG_Set)\n",
    "print(\"LOSS:  \" + \"%.4f\" % Model_Results[0])\n",
    "print(\"ACCURACY:  \" + \"%.4f\" % Model_Results[1])"
   ]
  },
  {
   "cell_type": "code",
   "execution_count": null,
   "metadata": {
    "execution": {
     "iopub.status.busy": "2021-10-02T16:02:25.991028Z",
     "iopub.status.idle": "2021-10-02T16:02:25.991802Z"
    }
   },
   "outputs": [],
   "source": [
    "Prediction_Number = Model.predict(Test_IMG_Set)"
   ]
  },
  {
   "cell_type": "code",
   "execution_count": null,
   "metadata": {
    "execution": {
     "iopub.status.busy": "2021-10-02T16:02:26.019291Z",
     "iopub.status.idle": "2021-10-02T16:02:26.020374Z"
    }
   },
   "outputs": [],
   "source": [
    "print(Prediction_Number[0:10])"
   ]
  },
  {
   "cell_type": "code",
   "execution_count": null,
   "metadata": {
    "execution": {
     "iopub.status.busy": "2021-10-02T16:02:26.021824Z",
     "iopub.status.idle": "2021-10-02T16:02:26.022705Z"
    }
   },
   "outputs": [],
   "source": [
    "Prediction = Prediction_Number.argmax(axis=-1)"
   ]
  },
  {
   "cell_type": "code",
   "execution_count": null,
   "metadata": {
    "execution": {
     "iopub.status.busy": "2021-10-02T16:02:26.024058Z",
     "iopub.status.idle": "2021-10-02T16:02:26.024917Z"
    }
   },
   "outputs": [],
   "source": [
    "print(Prediction[0:10])"
   ]
  },
  {
   "cell_type": "markdown",
   "metadata": {},
   "source": [
    "* mask_weared_incorrect: 0\n",
    "* with_mask: 1\n",
    "* without_mask: 2"
   ]
  },
  {
   "cell_type": "code",
   "execution_count": null,
   "metadata": {
    "execution": {
     "iopub.status.busy": "2021-10-02T16:02:26.026278Z",
     "iopub.status.idle": "2021-10-02T16:02:26.027104Z"
    }
   },
   "outputs": [],
   "source": [
    "fig, axes = plt.subplots(nrows=5,\n",
    "                         ncols=5,\n",
    "                         figsize=(20, 20),\n",
    "                        subplot_kw={'xticks': [], 'yticks': []})\n",
    "\n",
    "for i, ax in enumerate(axes.flat):\n",
    "    ax.imshow(plt.imread(Test_Data[\"PNG\"].iloc[i]))\n",
    "    ax.set_title(f\"PREDICTION:{Prediction[i]}\")\n",
    "    ax.set_xlabel(Test_Data[\"CATEGORY\"].iloc[i])\n",
    "plt.tight_layout()\n",
    "plt.show()"
   ]
  },
  {
   "cell_type": "markdown",
   "metadata": {},
   "source": [
    "#### TARGET PREDICT"
   ]
  },
  {
   "cell_type": "code",
   "execution_count": null,
   "metadata": {
    "execution": {
     "iopub.status.busy": "2021-10-02T16:02:26.028504Z",
     "iopub.status.idle": "2021-10-02T16:02:26.029357Z"
    }
   },
   "outputs": [],
   "source": [
    "CNN_Main_Model = load_model(\"./main_model.h5\")"
   ]
  },
  {
   "cell_type": "markdown",
   "metadata": {},
   "source": [
    "##### NO MASK"
   ]
  },
  {
   "cell_type": "code",
   "execution_count": null,
   "metadata": {
    "execution": {
     "iopub.status.busy": "2021-10-02T16:02:26.030676Z",
     "iopub.status.idle": "2021-10-02T16:02:26.031562Z"
    }
   },
   "outputs": [],
   "source": [
    "Non_Seen_Image = \"../input/face-mask-detection/Dataset/without_mask/1023.png\""
   ]
  },
  {
   "cell_type": "code",
   "execution_count": null,
   "metadata": {
    "execution": {
     "iopub.status.busy": "2021-10-02T16:02:26.032916Z",
     "iopub.status.idle": "2021-10-02T16:02:26.033796Z"
    }
   },
   "outputs": [],
   "source": [
    "Reading_IMG = cv2.imread(Non_Seen_Image)\n",
    "Transformation_RGB = cv2.cvtColor(Reading_IMG,cv2.COLOR_BGR2RGB)\n",
    "\n",
    "plt.xlabel(Transformation_RGB.shape)\n",
    "plt.ylabel(Transformation_RGB.size)\n",
    "\n",
    "plt.imshow(Transformation_RGB)"
   ]
  },
  {
   "cell_type": "code",
   "execution_count": null,
   "metadata": {
    "execution": {
     "iopub.status.busy": "2021-10-02T16:02:26.035111Z",
     "iopub.status.idle": "2021-10-02T16:02:26.035960Z"
    }
   },
   "outputs": [],
   "source": [
    "img = load_img(Non_Seen_Image, target_size=(128, 128))  # Loading image\n",
    "img = image.img_to_array(img)  # Transforming image to array\n",
    "img = img / 255  # Normalizing Image\n",
    "img = np.expand_dims(img, axis=0)\n",
    "\n",
    "print(img.shape)"
   ]
  },
  {
   "cell_type": "code",
   "execution_count": null,
   "metadata": {
    "execution": {
     "iopub.status.busy": "2021-10-02T16:02:26.037445Z",
     "iopub.status.idle": "2021-10-02T16:02:26.038299Z"
    }
   },
   "outputs": [],
   "source": [
    "Non_Seen_Predict = Model.predict(img)"
   ]
  },
  {
   "cell_type": "code",
   "execution_count": null,
   "metadata": {
    "execution": {
     "iopub.status.busy": "2021-10-02T16:02:26.039599Z",
     "iopub.status.idle": "2021-10-02T16:02:26.040450Z"
    }
   },
   "outputs": [],
   "source": [
    "Non_Seen_Predict = Non_Seen_Predict.argmax(axis=-1)\n",
    "print(Non_Seen_Predict)"
   ]
  },
  {
   "cell_type": "code",
   "execution_count": null,
   "metadata": {
    "execution": {
     "iopub.status.busy": "2021-10-02T16:02:26.041746Z",
     "iopub.status.idle": "2021-10-02T16:02:26.042582Z"
    }
   },
   "outputs": [],
   "source": [
    "img_x = load_img(Non_Seen_Image, target_size=(128, 128))  # Loading image\n",
    "img_x = image.img_to_array(img_x)  # Transforming image to array\n",
    "img_x = img_x / 255  # Normalizing Image\n",
    "img_x = np.expand_dims(img_x, axis=0)"
   ]
  },
  {
   "cell_type": "code",
   "execution_count": null,
   "metadata": {
    "execution": {
     "iopub.status.busy": "2021-10-02T16:02:26.043857Z",
     "iopub.status.idle": "2021-10-02T16:02:26.044694Z"
    }
   },
   "outputs": [],
   "source": [
    "Non_Seen_Predict_x = Model.predict(img_x)[0]"
   ]
  },
  {
   "cell_type": "code",
   "execution_count": null,
   "metadata": {
    "execution": {
     "iopub.status.busy": "2021-10-02T16:02:26.045966Z",
     "iopub.status.idle": "2021-10-02T16:02:26.046814Z"
    }
   },
   "outputs": [],
   "source": [
    "(startX, startY, prb) = Non_Seen_Predict_x"
   ]
  },
  {
   "cell_type": "code",
   "execution_count": null,
   "metadata": {
    "execution": {
     "iopub.status.busy": "2021-10-02T16:02:26.049835Z",
     "iopub.status.idle": "2021-10-02T16:02:26.050694Z"
    }
   },
   "outputs": [],
   "source": [
    "print(f\"{startX} x {startY} x {prb}\")"
   ]
  },
  {
   "cell_type": "code",
   "execution_count": null,
   "metadata": {
    "execution": {
     "iopub.status.busy": "2021-10-02T16:02:26.051991Z",
     "iopub.status.idle": "2021-10-02T16:02:26.052840Z"
    }
   },
   "outputs": [],
   "source": [
    "(h,w) = Transformation_RGB.shape[:2]"
   ]
  },
  {
   "cell_type": "code",
   "execution_count": null,
   "metadata": {
    "execution": {
     "iopub.status.busy": "2021-10-02T16:02:26.054171Z",
     "iopub.status.idle": "2021-10-02T16:02:26.055008Z"
    }
   },
   "outputs": [],
   "source": [
    "print(f\"{h} x {w}\")"
   ]
  },
  {
   "cell_type": "code",
   "execution_count": null,
   "metadata": {
    "execution": {
     "iopub.status.busy": "2021-10-02T16:02:26.056349Z",
     "iopub.status.idle": "2021-10-02T16:02:26.057200Z"
    }
   },
   "outputs": [],
   "source": [
    "startX = int(startX * w)\n",
    "startY = int(startY * h)\n",
    "prb = int(prb * w)"
   ]
  },
  {
   "cell_type": "code",
   "execution_count": null,
   "metadata": {
    "execution": {
     "iopub.status.busy": "2021-10-02T16:02:26.058545Z",
     "iopub.status.idle": "2021-10-02T16:02:26.059406Z"
    }
   },
   "outputs": [],
   "source": [
    "print(f\"{startX} x {startY} x {prb}\")"
   ]
  },
  {
   "cell_type": "code",
   "execution_count": null,
   "metadata": {
    "execution": {
     "iopub.status.busy": "2021-10-02T16:02:26.060714Z",
     "iopub.status.idle": "2021-10-02T16:02:26.061569Z"
    }
   },
   "outputs": [],
   "source": [
    "Reading_cv = cv2.imread(Non_Seen_Image)"
   ]
  },
  {
   "cell_type": "markdown",
   "metadata": {},
   "source": [
    "##### MASK"
   ]
  },
  {
   "cell_type": "code",
   "execution_count": null,
   "metadata": {
    "execution": {
     "iopub.status.busy": "2021-10-02T16:02:26.062877Z",
     "iopub.status.idle": "2021-10-02T16:02:26.063726Z"
    }
   },
   "outputs": [],
   "source": [
    "Mask_Image = \"../input/face-mask-detection/Dataset/with_mask/1009.png\""
   ]
  },
  {
   "cell_type": "code",
   "execution_count": null,
   "metadata": {
    "execution": {
     "iopub.status.busy": "2021-10-02T16:02:26.065032Z",
     "iopub.status.idle": "2021-10-02T16:02:26.065888Z"
    }
   },
   "outputs": [],
   "source": [
    "Reading_IMG = cv2.imread(Mask_Image)\n",
    "Transformation_RGB = cv2.cvtColor(Reading_IMG,cv2.COLOR_BGR2RGB)\n",
    "\n",
    "plt.xlabel(Transformation_RGB.shape)\n",
    "plt.ylabel(Transformation_RGB.size)\n",
    "\n",
    "plt.imshow(Transformation_RGB)"
   ]
  },
  {
   "cell_type": "code",
   "execution_count": null,
   "metadata": {
    "execution": {
     "iopub.status.busy": "2021-10-02T16:02:26.066788Z",
     "iopub.status.idle": "2021-10-02T16:02:26.067191Z"
    }
   },
   "outputs": [],
   "source": [
    "img = load_img(Mask_Image, target_size=(128, 128))  # Loading image\n",
    "img = image.img_to_array(img)  # Transforming image to array\n",
    "img = img / 255  # Normalizing Image\n",
    "img = np.expand_dims(img, axis=0)\n",
    "\n",
    "print(img.shape)"
   ]
  },
  {
   "cell_type": "code",
   "execution_count": null,
   "metadata": {
    "execution": {
     "iopub.status.busy": "2021-10-02T16:02:26.067866Z",
     "iopub.status.idle": "2021-10-02T16:02:26.117246Z"
    }
   },
   "outputs": [],
   "source": [
    "Non_Seen_Predict_Mask = Model.predict(img)"
   ]
  },
  {
   "cell_type": "code",
   "execution_count": null,
   "metadata": {
    "execution": {
     "iopub.status.busy": "2021-10-02T16:02:26.119680Z",
     "iopub.status.idle": "2021-10-02T16:02:26.120433Z"
    }
   },
   "outputs": [],
   "source": [
    "Non_Seen_Predict_Mask = Non_Seen_Predict_Mask.argmax(axis=-1)\n",
    "print(Non_Seen_Predict_Mask)"
   ]
  },
  {
   "cell_type": "code",
   "execution_count": null,
   "metadata": {
    "execution": {
     "iopub.status.busy": "2021-10-02T16:02:26.122418Z",
     "iopub.status.idle": "2021-10-02T16:02:26.123104Z"
    }
   },
   "outputs": [],
   "source": [
    "img_x = load_img(Mask_Image, target_size=(128, 128))  # Loading image\n",
    "img_x = image.img_to_array(img_x)  # Transforming image to array\n",
    "img_x = img_x / 255  # Normalizing Image\n",
    "img_x = np.expand_dims(img_x, axis=0)"
   ]
  },
  {
   "cell_type": "code",
   "execution_count": null,
   "metadata": {
    "execution": {
     "iopub.status.busy": "2021-10-02T16:02:26.124958Z",
     "iopub.status.idle": "2021-10-02T16:02:26.125684Z"
    }
   },
   "outputs": [],
   "source": [
    "Non_Seen_Predict_x_mask = Model.predict(img_x)[0]"
   ]
  },
  {
   "cell_type": "code",
   "execution_count": null,
   "metadata": {
    "execution": {
     "iopub.status.busy": "2021-10-02T16:02:26.127337Z",
     "iopub.status.idle": "2021-10-02T16:02:26.128024Z"
    }
   },
   "outputs": [],
   "source": [
    "(startX, startY, prb) = Non_Seen_Predict_x_mask"
   ]
  },
  {
   "cell_type": "code",
   "execution_count": null,
   "metadata": {
    "execution": {
     "iopub.status.busy": "2021-10-02T16:02:26.129707Z",
     "iopub.status.idle": "2021-10-02T16:02:26.130411Z"
    }
   },
   "outputs": [],
   "source": [
    "print(f\"{startX} x {startY} x {prb}\")"
   ]
  },
  {
   "cell_type": "code",
   "execution_count": null,
   "metadata": {
    "execution": {
     "iopub.status.busy": "2021-10-02T16:02:26.132230Z",
     "iopub.status.idle": "2021-10-02T16:02:26.132909Z"
    }
   },
   "outputs": [],
   "source": [
    "(h,w) = Reading_IMG.shape[:2]"
   ]
  },
  {
   "cell_type": "code",
   "execution_count": null,
   "metadata": {
    "execution": {
     "iopub.status.busy": "2021-10-02T16:02:26.134617Z",
     "iopub.status.idle": "2021-10-02T16:02:26.135475Z"
    }
   },
   "outputs": [],
   "source": [
    "half_h = int(w / 2)\n",
    "half_w = int(h / 2)"
   ]
  },
  {
   "cell_type": "code",
   "execution_count": null,
   "metadata": {
    "execution": {
     "iopub.status.busy": "2021-10-02T16:02:26.136851Z",
     "iopub.status.idle": "2021-10-02T16:02:26.137718Z"
    }
   },
   "outputs": [],
   "source": [
    "print(f\"{half_h} x {half_w}\")"
   ]
  },
  {
   "cell_type": "code",
   "execution_count": null,
   "metadata": {
    "execution": {
     "iopub.status.busy": "2021-10-02T16:02:26.139097Z",
     "iopub.status.idle": "2021-10-02T16:02:26.139947Z"
    }
   },
   "outputs": [],
   "source": [
    "print(f\"{h} x {w}\")"
   ]
  },
  {
   "cell_type": "code",
   "execution_count": null,
   "metadata": {
    "execution": {
     "iopub.status.busy": "2021-10-02T16:02:26.141301Z",
     "iopub.status.idle": "2021-10-02T16:02:26.142176Z"
    }
   },
   "outputs": [],
   "source": [
    "startX = int(startX * w)\n",
    "startY = int(startY * h)\n",
    "prb = int(prb * w)"
   ]
  },
  {
   "cell_type": "code",
   "execution_count": null,
   "metadata": {
    "execution": {
     "iopub.status.busy": "2021-10-02T16:02:26.143531Z",
     "iopub.status.idle": "2021-10-02T16:02:26.144407Z"
    }
   },
   "outputs": [],
   "source": [
    "print(f\"{startX} x {startY} x {prb}\")"
   ]
  }
 ],
 "metadata": {
  "kernelspec": {
   "display_name": "Python [conda env:testEnv] *",
   "language": "python",
   "name": "conda-env-testEnv-py"
  },
  "language_info": {
   "codemirror_mode": {
    "name": "ipython",
    "version": 3
   },
   "file_extension": ".py",
   "mimetype": "text/x-python",
   "name": "python",
   "nbconvert_exporter": "python",
   "pygments_lexer": "ipython3",
   "version": "3.7.11"
  }
 },
 "nbformat": 4,
 "nbformat_minor": 4
}
